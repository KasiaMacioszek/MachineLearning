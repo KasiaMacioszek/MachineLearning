{
 "cells": [
  {
   "cell_type": "markdown",
   "id": "7b6954fb",
   "metadata": {},
   "source": [
    "## Task 2 notes: neural networks"
   ]
  },
  {
   "cell_type": "markdown",
   "id": "cba1b154",
   "metadata": {},
   "source": [
    "2 warstwy w tym zadaniu\n",
    "\n",
    "90% dokładność\n",
    "\n",
    "wariancja - r normalny z wariancją (std) < 1 (1/sqrt(ilości obs + bias))\n",
    "\n",
    "aktualizowanie wag - back propagation"
   ]
  },
  {
   "cell_type": "markdown",
   "id": "1470d2ca",
   "metadata": {},
   "source": [
    "dodatkowe pkt:\n",
    "\n",
    "podzielić dane na paczki, \n",
    "\n",
    "inne postacie funkcji aktywacji fi\n",
    "\n",
    "lepsza implementacja (bardziej ogólna)"
   ]
  },
  {
   "cell_type": "code",
   "execution_count": 1,
   "id": "ba04cc4e",
   "metadata": {},
   "outputs": [],
   "source": [
    "import numpy as np\n",
    "from mnist_loader import load_data, load_data_wrapper, vectorized_result"
   ]
  },
  {
   "cell_type": "code",
   "execution_count": null,
   "id": "21c284db",
   "metadata": {},
   "outputs": [],
   "source": [
    "class NN:\n",
    "    def __init__(self, training_data, layers=2, c=0.01, epoch=10):\n",
    "        self.X = training_data[0]\n",
    "        self.Y = training_data[1]\n",
    "        \n",
    "        self.input_size = self.X.shape[0]\n",
    "        self.output_size = self.Y.shape[0]\n",
    "        \n",
    "        self.epochs = epoch\n",
    "        self.c = c\n",
    "        self.layers = layers\n",
    "        \n",
    "    def initiate_weight(self):\n",
    "        wt = np.zeros((self.input_shape+1)*self.output_shape)\n",
    "        for i in range(len(wt)):\n",
    "            wt[i] = np.random.randn()\n",
    "        return np.array(wt).reshape(self.output_shape, self.input_shape+1)\n",
    "    \n",
    "    def sigmoid(self):\n",
    "        return (1/(1+np.exp(-x)))\n",
    "    \n",
    "    def forward_pass_one_layer(self, x, weight):\n",
    "        X = np.concatenate(([1], X), axis=0)\n",
    "        net = weight @ X\n",
    "        a = self.sigmoid(net)\n",
    "        \n",
    "        return net, a\n",
    "    \n",
    "    def back_prop_one_layer(self, net, a, y, weight):\n",
    "        X = np.concatenate(([1], a), axis=0)\n",
    "        \n",
    "        sig_val = [self.sigmoid(n) for n in net]\n",
    "        sigmoid_derivative = sig_val*(1-sig_val)\n",
    "        \n",
    "        delta = np.multiply(a, sigmoid_derivative)\n",
    "        derivative = delta @ X.T\n",
    "        \n",
    "        updated_weight = weight - self.c*derivative\n",
    "        \n",
    "        return updated_weight\n",
    "    \n",
    "    def forward_pass(self, x):\n",
    "        activations = np.zeros(self.layers)\n",
    "        layer_input = \n",
    "    \n",
    "    def train(self):\n",
    "        for j in range(len(self.input_size))\n",
    "            for i in range(self.layers):\n",
    "                \n",
    "        "
   ]
  },
  {
   "cell_type": "code",
   "execution_count": 6,
   "id": "1cc20bd6",
   "metadata": {},
   "outputs": [],
   "source": [
    "class NeuralNetwork:\n",
    "    def __init__(self, X, Y, c = 0.01, epoch = 10):\n",
    "        self.input = X\n",
    "        \n",
    "        self.input_size = X.shape[0]\n",
    "        self.output\n",
    "        \n",
    "        self.sigmoid_values = {}\n",
    "        self.epochs = epoch\n",
    "        self.c = c\n",
    "        \n",
    "    def sigmoid_to_fix(self, x):\n",
    "        if x in self.sigmoid_values:\n",
    "            return self.sigmoid_values[x]\n",
    "        else:\n",
    "            value = (1/(1+np.exp(-x)))\n",
    "            self.sigmoid_values[x] = value\n",
    "            return value\n",
    "    \n",
    "    def sigmoid(self, x):\n",
    "        return (1/(1+np.exp(-x)))\n",
    "    \n",
    "    def forward_pass(self, X, weight1, weight2):\n",
    "        n, m = X.shape\n",
    "        X = np.concatenate((np.ones((m, 1), dtype=int), X), axis=0)\n",
    "        \n",
    "        net1 = weight1 @ X\n",
    "        a1 = self.sigmoid(net)\n",
    "        \n",
    "        n, m = a1.shape\n",
    "        X2 = np.concatenate((np.ones((m, 1), dtype=int), a1), axis=0)\n",
    "        \n",
    "        net2 = weight2 @ X2\n",
    "        a2 = self.sigmoid(net2)\n",
    "        \n",
    "        return a1, a2, net1, net2\n",
    "    \n",
    "    def loss_function(self, Y, ak):\n",
    "        l = np.square(y-ak)\n",
    "        return np.sum(l)\n",
    "    \n",
    "    def generate_weights(self, x, y):\n",
    "        wt =[]\n",
    "        for _ in range(x*y):\n",
    "            wt.append(np.random.randn())\n",
    "        return np.array(wt).reshape(x, y)\n",
    "        \n",
    "    \n",
    "    def back_propagation(self, X, Y, weight1, weight2, c):\n",
    "        a1, a2, net1, net2 = self.forward_pass(X, weight1, weight2)\n",
    "        X = np.concatenate((np.ones((X.shape[1], 1), dtype=int), X), axis=0)\n",
    "        \n",
    "        dl_a2 = a2 - y\n",
    "        sig_val2 = self.sigmoid(net2)\n",
    "        sigmoid_derivative2 = sig_val2*(1-sig_val2)\n",
    "        \n",
    "        delta2 = np.multiply(dl_a2, sigmoid_derivative2)\n",
    "        \n",
    "        X2 = np.concatenate((np.ones((a1.shape[1], 1), dtype=int), a1), axis=0)\n",
    "        dl_w2 = delta2 @ X2.T\n",
    "        \n",
    "        weight2_updated = weight2 - self.c*dl_w2\n",
    "        \n",
    "        dl_x = weight2.T @ delta2\n",
    "        \n",
    "        dl_a1 = np.delete(dl_x, 0, 0)\n",
    "        sig_val1 = self.sigmoid(net1)\n",
    "        sigmoid_derivative1 = sig_val1*(1-sig_val1)\n",
    "        \n",
    "        delta1 = np.multiply(dl_a1, sigmoid_derivative1)\n",
    "        dl_w1 = delta1 @ X.T\n",
    "        \n",
    "        weight1_updated = weight1 - self.c*dl_w1\n",
    "        \n",
    "        return a1, a2, weight1_updated, weight2_updated\n",
    "    \n",
    "    def train(X, Y, weight1, weight2):\n",
    "        accuracy = []\n",
    "        loss = []\n",
    "        for i in range(self.epochs):\n",
    "            l = []\n",
    "            for j in range(len(X)):\n",
    "                a1, a2, weight1, weight2 = self.back_propagation(X, Y, weight1, weight2)\n",
    "                l.append((loss(a2, Y[j])))\n",
    "            print(\"Epochs: \", i+1)\n",
    "            print(\"Accuracy: \", (1-(sum(l)/len(X)))*100)\n",
    "            accuracy.append((1-(sum(l)/len(x)))*100)\n",
    "            loss.append(sum(l)/len(x))\n",
    "        return accuracy, loss, weight1, weight2\n",
    "    \n",
    "    def predict(X, weight1, weight2):\n",
    "        _, a2, _, _ = self.forward_pass(X, weight1, weight2)\n",
    "        for x, y in test_data:\n",
    "            test_results.append((self.forward_pass(x, weight1, weight2)[1], y))\n",
    "        return sum(int(x == y) for (x, y) in test_results)\n",
    "            "
   ]
  },
  {
   "cell_type": "code",
   "execution_count": 7,
   "id": "85e3238a",
   "metadata": {},
   "outputs": [],
   "source": [
    "X = np.array([[1, 0]]).T\n",
    "Y = np.array([[1, 2, 0]]).T\n",
    "n, m = X.shape\n",
    "X = np.concatenate((np.ones((m, 1), dtype=int), X), axis=0)"
   ]
  },
  {
   "cell_type": "code",
   "execution_count": 8,
   "id": "25adfaaf",
   "metadata": {},
   "outputs": [],
   "source": [
    "X_new = np.delete(X, 0, 0)"
   ]
  },
  {
   "cell_type": "code",
   "execution_count": 9,
   "id": "2b1942c2",
   "metadata": {},
   "outputs": [
    {
     "data": {
      "text/plain": [
       "array([[1],\n",
       "       [0]])"
      ]
     },
     "execution_count": 9,
     "metadata": {},
     "output_type": "execute_result"
    }
   ],
   "source": [
    "X_new"
   ]
  },
  {
   "cell_type": "code",
   "execution_count": 10,
   "id": "71bc213d",
   "metadata": {},
   "outputs": [
    {
     "data": {
      "text/plain": [
       "array([[1],\n",
       "       [1],\n",
       "       [0]])"
      ]
     },
     "execution_count": 10,
     "metadata": {},
     "output_type": "execute_result"
    }
   ],
   "source": [
    "X"
   ]
  },
  {
   "cell_type": "markdown",
   "id": "af434292",
   "metadata": {},
   "source": [
    "## Usage Tests"
   ]
  },
  {
   "cell_type": "code",
   "execution_count": 13,
   "id": "3fc68167",
   "metadata": {},
   "outputs": [],
   "source": [
    "training_data, validation_data, test_data = load_data_wrapper()"
   ]
  },
  {
   "cell_type": "code",
   "execution_count": 15,
   "id": "54790b7c",
   "metadata": {},
   "outputs": [],
   "source": [
    "x, y = zip(*training_data)"
   ]
  },
  {
   "cell_type": "code",
   "execution_count": 19,
   "id": "df54fb75",
   "metadata": {},
   "outputs": [
    {
     "data": {
      "text/plain": [
       "array([[0., 0., 0., 0., 0.],\n",
       "       [0., 0., 0., 0., 0.],\n",
       "       [0., 0., 0., 0., 0.]])"
      ]
     },
     "execution_count": 19,
     "metadata": {},
     "output_type": "execute_result"
    }
   ],
   "source": [
    "np.zeros((3, 5))"
   ]
  },
  {
   "cell_type": "code",
   "execution_count": 6,
   "id": "609642c6",
   "metadata": {},
   "outputs": [
    {
     "data": {
      "text/plain": [
       "10000"
      ]
     },
     "execution_count": 6,
     "metadata": {},
     "output_type": "execute_result"
    }
   ],
   "source": [
    "len(validation_data[0])"
   ]
  },
  {
   "cell_type": "code",
   "execution_count": 12,
   "id": "200f61c3",
   "metadata": {},
   "outputs": [],
   "source": [
    "NN = NeuralNetwork(training_data)"
   ]
  },
  {
   "cell_type": "code",
   "execution_count": null,
   "id": "1dae04ff",
   "metadata": {},
   "outputs": [],
   "source": [
    "w1 = NN."
   ]
  },
  {
   "cell_type": "code",
   "execution_count": 13,
   "id": "9d615b2a",
   "metadata": {},
   "outputs": [],
   "source": [
    "import sklearn.datasets\n",
    "X, Y = sklearn.datasets.make_moons(n_samples=500, noise=.2)"
   ]
  },
  {
   "cell_type": "code",
   "execution_count": 16,
   "id": "b8db1b74",
   "metadata": {},
   "outputs": [
    {
     "data": {
      "text/plain": [
       "(array([[0., 0., 0., ..., 0., 0., 0.],\n",
       "        [0., 0., 0., ..., 0., 0., 0.],\n",
       "        [0., 0., 0., ..., 0., 0., 0.],\n",
       "        ...,\n",
       "        [0., 0., 0., ..., 0., 0., 0.],\n",
       "        [0., 0., 0., ..., 0., 0., 0.],\n",
       "        [0., 0., 0., ..., 0., 0., 0.]], dtype=float32),\n",
       " array([5, 0, 4, ..., 8, 4, 8], dtype=int64))"
      ]
     },
     "execution_count": 16,
     "metadata": {},
     "output_type": "execute_result"
    }
   ],
   "source": [
    "training_data"
   ]
  },
  {
   "cell_type": "code",
   "execution_count": null,
   "id": "b9d2d134",
   "metadata": {},
   "outputs": [],
   "source": []
  }
 ],
 "metadata": {
  "kernelspec": {
   "display_name": "Python 3 (ipykernel)",
   "language": "python",
   "name": "python3"
  },
  "language_info": {
   "codemirror_mode": {
    "name": "ipython",
    "version": 3
   },
   "file_extension": ".py",
   "mimetype": "text/x-python",
   "name": "python",
   "nbconvert_exporter": "python",
   "pygments_lexer": "ipython3",
   "version": "3.9.7"
  }
 },
 "nbformat": 4,
 "nbformat_minor": 5
}
