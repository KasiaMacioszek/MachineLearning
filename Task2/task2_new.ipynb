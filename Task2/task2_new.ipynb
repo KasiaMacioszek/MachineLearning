{
 "cells": [
  {
   "cell_type": "code",
   "execution_count": 325,
   "metadata": {},
   "outputs": [],
   "source": [
    "import numpy as np\n",
    "from mnist_loader import load_data, load_data_wrapper, vectorized_result"
   ]
  },
  {
   "cell_type": "markdown",
   "metadata": {},
   "source": [
    "# Neural Network class"
   ]
  },
  {
   "cell_type": "code",
   "execution_count": 326,
   "metadata": {},
   "outputs": [],
   "source": [
    "class NeuralNetwork:\n",
    "    def __init__(self, weight_sizes, epochs=10, c=0.1, batch=100):\n",
    "        self.weight_sizes = weight_sizes\n",
    "        self.epochs = int(epochs)\n",
    "        self.c = c\n",
    "        self.batch = batch if batch != 0 else 100\n",
    "        self.layers = len(self.weight_sizes)\n",
    "        self.weights = self.initialize_weights()\n",
    "\n",
    "    def prepare_data(self, data):\n",
    "        x_data, y_data = data\n",
    "        new_x_data = np.concatenate((np.ones([x_data.shape[0], 1]), x_data), axis=1)\n",
    "        y_len = len(y_data)\n",
    "        new_y_data = list(np.zeros(y_len))\n",
    "        for i in range(y_len):\n",
    "            y = np.zeros(10)\n",
    "            y[y_data[i]] = 1\n",
    "            new_y_data[i] = y\n",
    "        return new_x_data, new_y_data\n",
    "        \n",
    "    def initialize_weights(self):\n",
    "        return [np.random.randn(self.weight_sizes[layer]+1, self.weight_sizes[layer+1])/10 \\\n",
    "                   for layer in range(self.layers-1)]\n",
    "        \n",
    "    def sigmoid(self, x):\n",
    "        return (1/(1+np.exp(-x)))\n",
    "    \n",
    "    def sigmoid_derivative(self, x):\n",
    "        sig_val = self.sigmoid(x)\n",
    "        return np.multiply(sig_val, (1-sig_val))\n",
    "    \n",
    "    def activation_func(self, x, layer):\n",
    "        if layer == self.layers:\n",
    "            e_x = np.exp(x - np.max(x, axis=1, keepdims=True))\n",
    "            return (e_x / e_x.sum(axis=1)[:,None])\n",
    "        else:\n",
    "            return self.sigmoid(x)\n",
    "    \n",
    "    def forward_pass(self, X):\n",
    "        activations = list(np.zeros(self.layers))\n",
    "        activations[0] = X\n",
    "        nets = list(np.zeros(self.layers))\n",
    "\n",
    "        for layer in range(1, self.layers):\n",
    "            nets[layer] = activations[layer-1] @ self.weights[layer-1]\n",
    "            activations[layer] = np.concatenate((np.ones([X.shape[0],1]), self.activation_func(nets[layer], layer+1)), axis=1)\n",
    "        \n",
    "        last_activ = activations[-1]\n",
    "        activations[self.layers-1] = last_activ[:, 1:]\n",
    "\n",
    "        return nets, activations\n",
    "    \n",
    "    def back_propagation(self, X, Y):\n",
    "        nets, activations = self.forward_pass(X)\n",
    "\n",
    "        deltas = list(np.zeros(self.layers))\n",
    "        deltas[self.layers-1] = activations[self.layers-1] - Y\n",
    "        for i in range(self.layers-2, 0, -1):\n",
    "            deltas[i] = (deltas[i+1] @ self.weights[i][1:].T) * self.sigmoid_derivative(nets[i])\n",
    "\n",
    "        gradients = [(deltas[i+1].T @ activations[i]) / X.shape[0] for i in range(len(deltas)-1)]\n",
    "        updated_weights = [self.weights[j] - self.c*gradients[j].T for j in range(len(gradients))]\n",
    "        return updated_weights\n",
    "    \n",
    "    def accuracy(self, X, Y):\n",
    "        _, activations = self.forward_pass(X)\n",
    "        last_acivation = activations[-1]\n",
    "        prediction = np.argmax(last_acivation, axis=1)\n",
    "        real_value = np.argmax(Y, axis=1)\n",
    "        return np.mean(prediction == real_value)\n",
    "    \n",
    "    def train(self, training_data, test_data):\n",
    "\n",
    "        x_train, y_train = self.prepare_data(training_data)\n",
    "        x_test, y_test = self.prepare_data(test_data)\n",
    "\n",
    "        for epoch in range(1, self.epochs+1):\n",
    "            print(f\"Epoch: {epoch}\")\n",
    "            slicer = np.array([0, self.batch])\n",
    "\n",
    "            for i in range(x_train.shape[0] // self.batch):\n",
    "                batch = slicer + i*self.batch\n",
    "                new_weights = self.back_propagation(x_train[batch[0]:batch[1]], y_train[batch[0]:batch[1]])\n",
    "                self.weights = new_weights\n",
    "            \n",
    "            accTrain = self.accuracy(x_train, y_train)\n",
    "            accTest = self.accuracy(x_test, y_test)\n",
    "\n",
    "            print(f\"Training data accuracy: {accTrain}\")\n",
    "            print(f\"Test data accuracy: {accTest}\")"
   ]
  },
  {
   "cell_type": "code",
   "execution_count": 327,
   "metadata": {},
   "outputs": [],
   "source": [
    "training_data, validation_data, test_data = load_data()"
   ]
  },
  {
   "cell_type": "code",
   "execution_count": 330,
   "metadata": {},
   "outputs": [],
   "source": [
    "NN = NeuralNetwork([784, 200, 80, 10], epochs=10, c=0.1, batch=100)"
   ]
  },
  {
   "cell_type": "code",
   "execution_count": 331,
   "metadata": {},
   "outputs": [
    {
     "name": "stdout",
     "output_type": "stream",
     "text": [
      "Epoch: 1\n",
      "Training data accuracy: 0.77996\n",
      "Test data accuracy: 0.7887\n",
      "Epoch: 2\n",
      "Training data accuracy: 0.8633\n",
      "Test data accuracy: 0.8737\n",
      "Epoch: 3\n",
      "Training data accuracy: 0.88464\n",
      "Test data accuracy: 0.8903\n",
      "Epoch: 4\n",
      "Training data accuracy: 0.89624\n",
      "Test data accuracy: 0.9009\n",
      "Epoch: 5\n",
      "Training data accuracy: 0.90286\n",
      "Test data accuracy: 0.9072\n",
      "Epoch: 6\n",
      "Training data accuracy: 0.909\n",
      "Test data accuracy: 0.9111\n",
      "Epoch: 7\n",
      "Training data accuracy: 0.9138\n",
      "Test data accuracy: 0.9159\n",
      "Epoch: 8\n",
      "Training data accuracy: 0.9176\n",
      "Test data accuracy: 0.9195\n",
      "Epoch: 9\n",
      "Training data accuracy: 0.92138\n",
      "Test data accuracy: 0.9236\n",
      "Epoch: 10\n",
      "Training data accuracy: 0.925\n",
      "Test data accuracy: 0.9266\n"
     ]
    }
   ],
   "source": [
    "NN.train(training_data, test_data)"
   ]
  },
  {
   "cell_type": "code",
   "execution_count": null,
   "metadata": {},
   "outputs": [],
   "source": []
  }
 ],
 "metadata": {
  "kernelspec": {
   "display_name": "Python 3",
   "language": "python",
   "name": "python3"
  },
  "language_info": {
   "codemirror_mode": {
    "name": "ipython",
    "version": 3
   },
   "file_extension": ".py",
   "mimetype": "text/x-python",
   "name": "python",
   "nbconvert_exporter": "python",
   "pygments_lexer": "ipython3",
   "version": "3.11.3"
  }
 },
 "nbformat": 4,
 "nbformat_minor": 2
}
